{
 "cells": [
  {
   "cell_type": "code",
   "execution_count": 1,
   "id": "c941d0c3",
   "metadata": {},
   "outputs": [
    {
     "name": "stdout",
     "output_type": "stream",
     "text": [
      "Hello Data\n"
     ]
    }
   ],
   "source": [
    "print(\"Hello Data\")"
   ]
  },
  {
   "cell_type": "markdown",
   "id": "167ccd43",
   "metadata": {},
   "source": [
    "### Importing Required Libraries"
   ]
  },
  {
   "cell_type": "code",
   "execution_count": 2,
   "id": "b56048c6",
   "metadata": {},
   "outputs": [],
   "source": [
    "import os\n",
    "import cv2\n",
    "import numpy as np\n",
    "from sklearn.svm import SVC\n",
    "from sklearn.model_selection import train_test_split\n",
    "from sklearn.metrics import classification_report\n",
    "from tqdm import tqdm"
   ]
  },
  {
   "cell_type": "markdown",
   "id": "aa728ecc",
   "metadata": {},
   "source": [
    "### Loading Images from our Dataset"
   ]
  },
  {
   "cell_type": "code",
   "execution_count": 3,
   "id": "50ce47ae",
   "metadata": {},
   "outputs": [],
   "source": [
    "IMAGE_SIZE = (128, 128)  # Resize images to this size"
   ]
  },
  {
   "cell_type": "code",
   "execution_count": 4,
   "id": "d0ed0620",
   "metadata": {},
   "outputs": [],
   "source": [
    "def load_images_from_folder(folder, label, image_size=(128, 128), max_images=1000):\n",
    "    images = []\n",
    "    labels = []\n",
    "    \n",
    "    # Filter only valid image files\n",
    "    valid_extensions = ('.png', '.jpg', '.jpeg')\n",
    "    files = [f for f in os.listdir(folder) if f.lower().endswith(valid_extensions)]\n",
    "    \n",
    "    # Limit the number of images\n",
    "    files = files[:max_images]\n",
    "\n",
    "    print(f\"Loading up to {max_images} images from {folder}...\")\n",
    "\n",
    "    for filename in tqdm(files, desc=f\"Processing {folder}\"):\n",
    "        path = os.path.join(folder, filename)\n",
    "        img = cv2.imread(path, cv2.IMREAD_GRAYSCALE)\n",
    "        if img is not None:\n",
    "            img = cv2.resize(img, image_size)\n",
    "            img = img.astype(np.float32) / 255.0\n",
    "            images.append(img)\n",
    "            labels.append(label)\n",
    "        else:\n",
    "            print(f\"Warning: Could not read image {path}\")\n",
    "    \n",
    "    return np.array(images), np.array(labels)"
   ]
  },
  {
   "cell_type": "code",
   "execution_count": 28,
   "id": "d5a9a0f9",
   "metadata": {},
   "outputs": [
    {
     "name": "stdout",
     "output_type": "stream",
     "text": [
      "Loading up to 1000 images from train/cats...\n"
     ]
    },
    {
     "name": "stderr",
     "output_type": "stream",
     "text": [
      "Processing train/cats: 100%|██████████████████████████████████████████████████████| 1000/1000 [00:01<00:00, 729.23it/s]\n"
     ]
    },
    {
     "name": "stdout",
     "output_type": "stream",
     "text": [
      "Loading up to 1000 images from train/dogs...\n"
     ]
    },
    {
     "name": "stderr",
     "output_type": "stream",
     "text": [
      "Processing train/dogs: 100%|██████████████████████████████████████████████████████| 1000/1000 [00:03<00:00, 319.08it/s]\n"
     ]
    }
   ],
   "source": [
    "cat_images, cat_labels = load_images_from_folder('train/cats', 0)\n",
    "dog_images, dog_labels = load_images_from_folder('train/dogs', 1)"
   ]
  },
  {
   "cell_type": "markdown",
   "id": "abda6f00",
   "metadata": {},
   "source": [
    "### Feature Engineering "
   ]
  },
  {
   "cell_type": "code",
   "execution_count": 29,
   "id": "7ee5b412",
   "metadata": {},
   "outputs": [],
   "source": [
    "X = y = np.concatenate((cat_images, dog_images))\n",
    "y = np.concatenate((cat_labels, dog_labels))"
   ]
  },
  {
   "cell_type": "code",
   "execution_count": 30,
   "id": "b4fccdbc",
   "metadata": {},
   "outputs": [
    {
     "name": "stdout",
     "output_type": "stream",
     "text": [
      "{0: 1000, 1: 1000}\n"
     ]
    }
   ],
   "source": [
    "unique, counts = np.unique(y, return_counts=True)\n",
    "print(dict(zip(unique, counts)))"
   ]
  },
  {
   "cell_type": "code",
   "execution_count": 31,
   "id": "1cdbb150",
   "metadata": {},
   "outputs": [
    {
     "data": {
      "text/plain": [
       "array([0, 0, 0, ..., 1, 1, 1])"
      ]
     },
     "execution_count": 31,
     "metadata": {},
     "output_type": "execute_result"
    }
   ],
   "source": [
    "y"
   ]
  },
  {
   "cell_type": "code",
   "execution_count": 33,
   "id": "1d914eb2",
   "metadata": {},
   "outputs": [],
   "source": [
    "# Flatten images\n",
    "X_flattened = X.reshape(len(X), -1)"
   ]
  },
  {
   "cell_type": "markdown",
   "id": "6ed116e9",
   "metadata": {},
   "source": [
    "### Splitting Data into training and test set"
   ]
  },
  {
   "cell_type": "code",
   "execution_count": 34,
   "id": "28309f4a",
   "metadata": {},
   "outputs": [],
   "source": [
    "# Train-test split\n",
    "X_train, X_test, y_train, y_test = train_test_split(X_flattened, y, test_size=0.2, random_state=42)"
   ]
  },
  {
   "cell_type": "markdown",
   "id": "3ae296c7",
   "metadata": {},
   "source": [
    "### Training our svm Model "
   ]
  },
  {
   "cell_type": "code",
   "execution_count": 35,
   "id": "4560255c",
   "metadata": {},
   "outputs": [
    {
     "data": {
      "text/plain": [
       "SVC(kernel='linear')"
      ]
     },
     "execution_count": 35,
     "metadata": {},
     "output_type": "execute_result"
    }
   ],
   "source": [
    "svm = SVC(kernel='linear')\n",
    "svm.fit(X_train, y_train)"
   ]
  },
  {
   "cell_type": "markdown",
   "id": "81e3229b",
   "metadata": {},
   "source": [
    "### Making Pridiction on Test set"
   ]
  },
  {
   "cell_type": "code",
   "execution_count": 36,
   "id": "c32f3bd8",
   "metadata": {},
   "outputs": [
    {
     "name": "stdout",
     "output_type": "stream",
     "text": [
      "              precision    recall  f1-score   support\n",
      "\n",
      "         Cat       0.48      0.55      0.52       199\n",
      "         Dog       0.49      0.42      0.45       201\n",
      "\n",
      "    accuracy                           0.48       400\n",
      "   macro avg       0.49      0.49      0.48       400\n",
      "weighted avg       0.49      0.48      0.48       400\n",
      "\n"
     ]
    }
   ],
   "source": [
    "y_pred = svm.predict(X_test)\n",
    "print(classification_report(y_test, y_pred, target_names=[\"Cat\", \"Dog\"]))"
   ]
  },
  {
   "cell_type": "markdown",
   "id": "e3caf639",
   "metadata": {},
   "source": [
    "### Saving our Model"
   ]
  },
  {
   "cell_type": "code",
   "execution_count": 37,
   "id": "c377c47d",
   "metadata": {},
   "outputs": [
    {
     "name": "stdout",
     "output_type": "stream",
     "text": [
      "Model saved successfully!\n"
     ]
    }
   ],
   "source": [
    "import joblib\n",
    "\n",
    "# After training your svm model\n",
    "joblib.dump(svm, 'svm_cat_dog_model.joblib')\n",
    "print(\"Model saved successfully!\")"
   ]
  },
  {
   "cell_type": "code",
   "execution_count": null,
   "id": "7bcafb7b",
   "metadata": {},
   "outputs": [],
   "source": []
  }
 ],
 "metadata": {
  "kernelspec": {
   "display_name": "Python 3 (ipykernel)",
   "language": "python",
   "name": "python3"
  },
  "language_info": {
   "codemirror_mode": {
    "name": "ipython",
    "version": 3
   },
   "file_extension": ".py",
   "mimetype": "text/x-python",
   "name": "python",
   "nbconvert_exporter": "python",
   "pygments_lexer": "ipython3",
   "version": "3.7.1"
  }
 },
 "nbformat": 4,
 "nbformat_minor": 5
}
